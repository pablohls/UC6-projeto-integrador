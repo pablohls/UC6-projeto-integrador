{
 "cells": [
  {
   "cell_type": "code",
   "execution_count": null,
   "metadata": {},
   "outputs": [
    {
     "name": "stdout",
     "output_type": "stream",
     "text": [
      "Teste\n"
     ]
    }
   ],
   "source": [
    "# rng = np.random.RandomState(10) \n",
    "\n",
    "# a = np.hstack((rng.normal(size=1000),\n",
    "#                rng.normal(loc=5, scale=2, size=1000)))\n",
    "\n",
    "df_from_weverton = {\n",
    "    \"datas\": [\"01/01/2000\",\"01/02/2000\",\"01/03/2000\",\"01/04/2000\",\"01/05/2000\",\"01/06/2000\",\"01/07/2000\",\"01/08/2000\",],\n",
    "    \"media_cota\": [50,50,50,78,13,47,123,444]\n",
    "}\n",
    "\n",
    "def process_df(df):\n",
    "  datas_list = df['datas']\n",
    "  medias_cota_list = df['media_cota']\n",
    "  return datas_list, medias_cota_list\n",
    "\n",
    "x, y = process_df(df_from_weverton)\n",
    "\n",
    "\n",
    "plt.bar(x,y)  \n",
    "plt.title(\"Histogram with 'auto' bins\")\n",
    "plt.show()"
   ]
  }
 ],
 "metadata": {
  "kernelspec": {
   "display_name": "Python 3",
   "language": "python",
   "name": "python3"
  },
  "language_info": {
   "codemirror_mode": {
    "name": "ipython",
    "version": 3
   },
   "file_extension": ".py",
   "mimetype": "text/x-python",
   "name": "python",
   "nbconvert_exporter": "python",
   "pygments_lexer": "ipython3",
   "version": "3.9.13"
  }
 },
 "nbformat": 4,
 "nbformat_minor": 2
}
